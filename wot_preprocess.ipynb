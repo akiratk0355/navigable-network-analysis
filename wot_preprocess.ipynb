{
 "cells": [
  {
   "cell_type": "code",
   "execution_count": 92,
   "metadata": {
    "collapsed": false
   },
   "outputs": [],
   "source": [
    "%reload_ext autoreload\n",
    "%autoreload 2\n",
    "import networkx as nx\n",
    "import numpy as np\n",
    "import matplotlib.pyplot as plt"
   ]
  },
  {
   "cell_type": "code",
   "execution_count": 52,
   "metadata": {
    "collapsed": false
   },
   "outputs": [],
   "source": [
    "G = nx.read_graphml('data/2016-12-11.wot.mut.graphml')\n",
    "mapper = {}\n",
    "for i, nd in enumerate(G.nodes()):\n",
    "    mapper[nd] = i\n",
    "G = nx.relabel_nodes(G, mapper)\n",
    "\n",
    "remebunch = []\n",
    "for nd in G.nodes():\n",
    "    if nd in G.neighbors(nd):\n",
    "        remebunch.append((nd,nd))\n",
    "        print(\"%d has edge to itself!\" % nd)\n",
    "G.remove_edges_from(remebunch)"
   ]
  },
  {
   "cell_type": "code",
   "execution_count": 3,
   "metadata": {
    "collapsed": false
   },
   "outputs": [
    {
     "data": {
      "text/plain": [
       "48983"
      ]
     },
     "execution_count": 3,
     "metadata": {},
     "output_type": "execute_result"
    }
   ],
   "source": [
    "G.number_of_nodes()"
   ]
  },
  {
   "cell_type": "code",
   "execution_count": 4,
   "metadata": {
    "collapsed": false
   },
   "outputs": [
    {
     "data": {
      "text/plain": [
       "183840"
      ]
     },
     "execution_count": 4,
     "metadata": {},
     "output_type": "execute_result"
    }
   ],
   "source": [
    "G.number_of_edges()"
   ]
  },
  {
   "cell_type": "code",
   "execution_count": 5,
   "metadata": {
    "collapsed": true
   },
   "outputs": [],
   "source": [
    "for node_num in range(0,48983):\n",
    "    try:\n",
    "        del G.node[node_num]['label']\n",
    "    except Exception as ex:\n",
    "        print(node_num)"
   ]
  },
  {
   "cell_type": "code",
   "execution_count": 6,
   "metadata": {
    "collapsed": true
   },
   "outputs": [],
   "source": [
    "for e in G.edges():\n",
    "    del G.edge[e[0]][e[1]][\"cert_level\"]\n",
    "    del G.edge[e[0]][e[1]][\"primary_id\"]"
   ]
  },
  {
   "cell_type": "code",
   "execution_count": 9,
   "metadata": {
    "collapsed": false
   },
   "outputs": [
    {
     "data": {
      "text/plain": [
       "[6273, 1010, 43395, 9348, 30385, 15977, 38236, 10540, 35705]"
      ]
     },
     "execution_count": 9,
     "metadata": {},
     "output_type": "execute_result"
    }
   ],
   "source": [
    "G.neighbors(0)"
   ]
  },
  {
   "cell_type": "code",
   "execution_count": 10,
   "metadata": {
    "collapsed": false
   },
   "outputs": [
    {
     "data": {
      "text/plain": [
       "{}"
      ]
     },
     "execution_count": 10,
     "metadata": {},
     "output_type": "execute_result"
    }
   ],
   "source": [
    "G.edge[0][1010]"
   ]
  },
  {
   "cell_type": "code",
   "execution_count": 11,
   "metadata": {
    "collapsed": true
   },
   "outputs": [],
   "source": [
    "#nx.write_graphml(G, \"data/2016-12-11.wot.plain.graphml\")"
   ]
  },
  {
   "cell_type": "markdown",
   "metadata": {},
   "source": [
    "## Create clipped degree subgraphs"
   ]
  },
  {
   "cell_type": "code",
   "execution_count": 96,
   "metadata": {
    "collapsed": false
   },
   "outputs": [],
   "source": [
    "from utils.misc import remove_hubs\n",
    "G = nx.read_graphml('data/wot_default.graphml')\n",
    "G = remove_hubs(G)\n",
    "id_to_deg = nx.degree(G)\n",
    "sorted(id_to_deg.items(), key=lambda x: x[1])\n",
    "#nx.write_graphml(G, \"data/wot_max100deg.graphml\")"
   ]
  },
  {
   "cell_type": "code",
   "execution_count": 99,
   "metadata": {
    "collapsed": false
   },
   "outputs": [
    {
     "data": {
      "image/png": "[encoded data removed]",
      "text/plain": [
       "<matplotlib.figure.Figure at 0x7fa76a4de390>"
      ]
     },
     "metadata": {},
     "output_type": "display_data"
    }
   ],
   "source": [
    "degree_sequence=sorted(nx.degree(G).values())\n",
    "hist={} # {degree k: number of v with deg k}\n",
    "for d in degree_sequence:\n",
    "    if d in hist:\n",
    "        hist[d]+=1\n",
    "    else:\n",
    "        hist[d]=1\n",
    "# degree dist\n",
    "plt.loglog(list(hist.keys()), list(hist.values()),'bo')\n",
    "#plt.title(\"Degree distribution\")\n",
    "plt.ylabel(\"Number of nodes having degree $k$\")\n",
    "plt.xlabel(\"Degree $k$\")\n",
    "#plt.savefig('fig/wot_degree_distribution.eps')\n",
    "plt.show()"
   ]
  }
 ],
 "metadata": {
  "kernelspec": {
   "display_name": "Python 3",
   "language": "python",
   "name": "python3"
  },
  "language_info": {
   "codemirror_mode": {
    "name": "ipython",
    "version": 3
   },
   "file_extension": ".py",
   "mimetype": "text/x-python",
   "name": "python",
   "nbconvert_exporter": "python",
   "pygments_lexer": "ipython3",
   "version": "3.4.3"
  },
  "latex_envs": {
   "bibliofile": "biblio.bib",
   "cite_by": "apalike",
   "current_citInitial": 1,
   "eqLabelWithNumbers": true,
   "eqNumInitial": 0
  }
 },
 "nbformat": 4,
 "nbformat_minor": 1
}
