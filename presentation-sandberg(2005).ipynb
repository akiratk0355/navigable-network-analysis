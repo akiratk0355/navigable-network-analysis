{
 "cells": [
  {
   "cell_type": "raw",
   "metadata": {
    "hide_input": true,
    "nbpresent": {
     "id": "0a132d77-ab36-48b8-8488-0de3fedca1f3"
    },
    "slideshow": {
     "slide_type": "-"
    }
   },
   "source": [
    "<script>\n",
    "  jQuery(document).ready(function($) {\n",
    "\n",
    "  $(window).load(function(){\n",
    "    $('#preloader').fadeOut('slow',function(){$(this).remove();});\n",
    "  });\n",
    "\n",
    "  });\n",
    "</script>\n",
    "\n",
    "<style type=\"text/css\">\n",
    "  div#preloader { position: fixed;\n",
    "      left: 0;\n",
    "      top: 0;\n",
    "      z-index: 999;\n",
    "      width: 100%;\n",
    "      height: 100%;\n",
    "      overflow: visible;\n",
    "      background: #fff url('http://preloaders.net/preloaders/720/Moving%20line.gif') no-repeat center center;\n",
    "  }\n",
    "\n",
    "</style>\n",
    "\n",
    "<div id=\"preloader\"></div>"
   ]
  },
  {
   "cell_type": "raw",
   "metadata": {
    "hide_input": true,
    "nbpresent": {
     "id": "f38b8e25-8c63-4887-8e7e-0d627bb4e792"
    },
    "slideshow": {
     "slide_type": "-"
    }
   },
   "source": [
    "<script>\n",
    "  function code_toggle() {\n",
    "    if (code_shown){\n",
    "      $('div.input').hide('500');\n",
    "      $('#toggleButton').val('Show Code')\n",
    "    } else {\n",
    "      $('div.input').show('500');\n",
    "      $('#toggleButton').val('Hide Code')\n",
    "    }\n",
    "    code_shown = !code_shown\n",
    "  }\n",
    "\n",
    "  $( document ).ready(function(){\n",
    "    code_shown=false;\n",
    "    $('div.input').hide()\n",
    "  });\n",
    "</script>\n",
    "<form action=\"javascript:code_toggle()\"><input type=\"submit\" id=\"toggleButton\" value=\"Show Code\"></form>"
   ]
  },
  {
   "cell_type": "markdown",
   "metadata": {
    "hide_input": false,
    "nbpresent": {
     "id": "0a2c4130-4c16-4084-a7e7-2af0067d05da"
    },
    "slideshow": {
     "slide_type": "slide"
    }
   },
   "source": [
    "# Friend-to-friendネットワークにおける効率的な分散ルーティング\n",
    "<div style=\"text-align: right\"> 非線形物理学講座　理論神経科学・非平衡系数理グループ B4 髙橋彰</div>\n",
    "<figure>\n",
    "    <img class=\"image\" src=\"data/routing_k(100,0,18,1).png\" width=600 >\n",
    "</figure>\n",
    "<style>\n",
    ".image {\n",
    "    left: 50%;\n",
    "}\n",
    "</style>"
   ]
  },
  {
   "cell_type": "code",
   "execution_count": 62,
   "metadata": {
    "collapsed": true,
    "hide_input": false,
    "nbpresent": {
     "id": "fddfb5f0-95ec-461b-8e6b-585e6d74d877"
    },
    "slideshow": {
     "slide_type": "skip"
    }
   },
   "outputs": [],
   "source": [
    "%reload_ext autoreload\n",
    "%autoreload 2\n",
    "%matplotlib inline\n",
    "from math import log\n",
    "import random, logging, sys\n",
    "\n",
    "import networkx as nx\n",
    "import numpy as np\n",
    "import matplotlib.pyplot as plt\n",
    "from IPython.display import Image, display\n",
    "\n",
    "from utils.gen import kleinberg_ring\n",
    "from utils.search import greedy_path, average_greedy_path_length, RoutingError\n",
    "from utils.misc import shuffle_position_ring, dist_ring, labels_from_attr\n",
    "\n",
    "logger = logging.getLogger(__name__)\n",
    "logging.basicConfig(level=logging.INFO, stream=sys.stderr)\n",
    "\n",
    "def draw_autocrop(G):\n",
    "    pos = nx.circular_layout(G)\n",
    "    cut = 1.05\n",
    "    xmax= cut*max(xx for xx,yy in pos.values())\n",
    "    ymax= cut*max(yy for xx,yy in pos.values())\n",
    "    plt.xlim(-xmax,xmax)\n",
    "    plt.ylim(-ymax,ymax)\n",
    "    return pos\n",
    "def draw_autocrop_grid(G):\n",
    "    pos = dict(zip(G,G))\n",
    "    cut = 1.05\n",
    "    xmax= cut*max(xx for xx,yy in pos.values())\n",
    "    ymax= cut*max(yy for xx,yy in pos.values())\n",
    "    plt.xlim(-0.3,xmax)\n",
    "    plt.ylim(-0.3,ymax)\n",
    "    return pos"
   ]
  },
  {
   "cell_type": "markdown",
   "metadata": {
    "slideshow": {
     "slide_type": "slide"
    }
   },
   "source": [
    "# 0. 目次\n",
    "1. 研究の背景\n",
    "    - 複雑ネットワークにおけるルーティング\n",
    "    - P2Pネットワーク\n",
    "    - F2Fネットワーク\n",
    "2. 先行研究の紹介\n",
    "    - Navigable small-world network model (Kleinberg, 2000)\n",
    "    - Application to the routing in F2F overlay networks (Sandberg, 2006)\n",
    "3. 今後の課題と改良案"
   ]
  },
  {
   "cell_type": "markdown",
   "metadata": {
    "nbpresent": {
     "id": "ddb3fee4-1cd0-469b-aa3d-74775ff4bc00"
    },
    "slideshow": {
     "slide_type": "slide"
    }
   },
   "source": [
    "# 1. 研究の背景"
   ]
  },
  {
   "cell_type": "markdown",
   "metadata": {
    "nbpresent": {
     "id": "a951aa66-06aa-4f61-b864-2e8a38203289"
    },
    "slideshow": {
     "slide_type": "subslide"
    }
   },
   "source": [
    "## 1.1 背景: 複雑ネットワークにおけるルーティング\n",
    "- Small-world network - Watts, Strogatz(1998)\n",
    "    - 高いクラスタリング係数\n",
    "    - 小さな平均最短経路長: $O(\\log n)$\n",
    "    - 送電網、脳神経、友人関係のネットワーク等現実世界の様々なネットワーク構造に現れる特徴\n",
    "    \n",
    "- Navigable small-world network - Kleinberg(2000)\n",
    "    - 分散的かつ効率的なルーティングを可能にするスモール・ワールドネットワークのモデル\n",
    "    - P2Pネットワークにおけるルーティングアルゴリズムに応用可能"
   ]
  },
  {
   "cell_type": "markdown",
   "metadata": {
    "nbpresent": {
     "id": "c467f711-c039-40e7-aefc-a317ecd4f9a4"
    },
    "slideshow": {
     "slide_type": "skip"
    }
   },
   "source": [
    "## 1.1 背景: 複雑ネットワークにおけるルーティング **TODO**\n",
    "- Scale-free network - Barabasi, Albert(1999) **TODO**\n",
    "- Routing in scale-free networks - **TODO**: who?"
   ]
  },
  {
   "cell_type": "markdown",
   "metadata": {
    "nbpresent": {
     "id": "fd0cf315-3f91-449f-907f-bfbfae9f3b88"
    },
    "slideshow": {
     "slide_type": "subslide"
    }
   },
   "source": [
    "## 1.2 背景: P2Pネットワーク\n",
    "- クライアント-サーバー方式と比較した, P2Pネットワークのメリット\n",
    "    - 負荷分散\n",
    "    - 匿名化\n",
    "    - 耐障害性"
   ]
  },
  {
   "cell_type": "markdown",
   "metadata": {
    "nbpresent": {
     "id": "72132013-3d31-406a-9cc4-5ec1098c3f4e"
    },
    "slideshow": {
     "slide_type": "subslide"
    }
   },
   "source": [
    "## 1.3 背景: F2Fネットワーク\n",
    "- Friend-to-friend(F2F)network, Darknet - Clarke et al (2000, 2009)\n",
    "    - P2Pネットワークの一形態\n",
    "    - ネットワーク上の各ノードは、信頼のおける特定ノードとのみ直接の通信を行う\n",
    "    - 匿名性やプライバシーコントロールレベルの向上を目的とする\n",
    "    - ネットワーク上で隣接していないノード同士がデータの送受信を行うために複数ノードを中継することにより通信効率が犠牲に (c.f. プロキシ)\n",
    "    - 知り合い関係のネットワークがスモール・ワールド性を持つことを利用\n",
    "    - Opennet vs Darknet\n",
    "    - 実装例: Freenet 0.7 or 0.7.5, Retroshare, GNUNet\n",
    "- 本研究ではF2Fネットワークにおけるルーティングの**効率性**の向上を目指す"
   ]
  },
  {
   "cell_type": "markdown",
   "metadata": {
    "nbpresent": {
     "id": "167254f6-0171-44ca-9e8f-c9b6128b1660"
    },
    "slideshow": {
     "slide_type": "slide"
    }
   },
   "source": [
    "# 2. 先行研究の紹介\n",
    "- Kleinberg, Jon. \"The small-world phenomenon: An algorithmic perspective.\" *Proceedings of the thirty-second annual ACM symposium on Theory of computing*. ACM, 2000.\n",
    "- Sandberg, Oskar. \"Distributed routing in small-world networks.\" *Proceedings of the Meeting on Algorithm Engineering & Expermiments*. Society for Industrial and Applied Mathematics, 2006."
   ]
  },
  {
   "cell_type": "markdown",
   "metadata": {
    "nbpresent": {
     "id": "07d32117-4388-4456-a325-a63800f15a4d"
    },
    "slideshow": {
     "slide_type": "subslide"
    }
   },
   "source": [
    "## 2.1 Navigable small-world network model (Kleinberg, 2000)\n",
    "### 2.1.1 概要\n",
    "- Milgramの実験(1967)では各ノードがネットワーク全体の構造を知らずとも少ないホップ数でメッセージをターゲットまで届けることができた\n",
    "- **分散ルーティング**: 各ノードが局所的な情報のみを利用して次にメッセージを渡すべきノードを決定するルーティング\n",
    "- Kleinberg(2000)は分散ルーティング可能なスモール・ワールドネットワークの単純なモデルを提唱\n",
    "- $u,v$間のエッジ存在確率$\\propto d(u,v)^{-r}$\n",
    "- $r$の値が格子の次元に一致する時、シンプルな分散ルーティングアルゴリズムにより$O(\\log^2 n)$のホップ数で高確率でターゲットまで辿り着ける"
   ]
  },
  {
   "cell_type": "markdown",
   "metadata": {
    "nbpresent": {
     "id": "721f6c4f-8909-4e15-9fb8-f548ee4fc098"
    },
    "slideshow": {
     "slide_type": "subslide"
    }
   },
   "source": [
    "## 2.1 Navigable small-world network model (Kleinberg, 2000) \n",
    "### 2.1.2 グラフ生成アルゴリズム\n",
    "1. サイズ$n$の$k$次元格子$G$を初期状態とする\n",
    "2. 各ノードは隣接ノードとのエッジを持つ(local contact)\n",
    "3. $\\forall u \\in G$に対し$q$本の長距離エッジ(long-range contact)を追加する。ただし$u$が$v$とのエッジを持つ確率を$p(u,v)$として、$p(u,v)=\\cfrac{1}{d(u,v)^{r}Z}$とする\n",
    "    - $r$: パラメータ\n",
    "    - $d(u,v)$: $u,v$間の格子上での距離\n",
    "    - $Z$: 正規化定数"
   ]
  },
  {
   "cell_type": "code",
   "execution_count": 156,
   "metadata": {
    "collapsed": false,
    "hide_input": false,
    "slideshow": {
     "slide_type": "-"
    }
   },
   "outputs": [
    {
     "data": {
      "text/html": [
       "<figure>\n",
       "    <img src=\"data/kleinberg_long.png\", width=500>\n",
       "    <figcaption>$k=2, q=2$</figcaption>\n",
       "    <figcaption> Kleinberg, Jon. \"The small-world phenomenon: An algorithmic perspective.\" Proceedings of the thirty-second annual ACM symposium on Theory of computing. ACM, 2000. </figcaption>\n",
       "</figure>"
      ],
      "text/plain": [
       "<IPython.core.display.HTML object>"
      ]
     },
     "metadata": {},
     "output_type": "display_data"
    }
   ],
   "source": [
    "%%HTML\n",
    "<figure>\n",
    "    <img src=\"data/kleinberg_long.png\", width=500>\n",
    "    <figcaption>$k=2, q=2$</figcaption>\n",
    "    <figcaption> Kleinberg, Jon. \"The small-world phenomenon: An algorithmic perspective.\" Proceedings of the thirty-second annual ACM symposium on Theory of computing. ACM, 2000. </figcaption>\n",
    "</figure>"
   ]
  },
  {
   "cell_type": "markdown",
   "metadata": {
    "nbpresent": {
     "id": "2d922590-9511-4ae4-97b1-a0154e8d6c5f"
    },
    "slideshow": {
     "slide_type": "subslide"
    }
   },
   "source": [
    "## 2.1 Navigable small-world network model (Kleinberg, 2000) \n",
    "### 2.1.3 分散ルーティング\n",
    "- 分散ルーティング: 各ノードが自らが保持している情報のみを用いて行うルーティング\n",
    "    - 広義には隣接ノードとルーティングテーブルを交換するやDVAやLSAなども含まれる\n",
    "    - 対義語: 中央集権的 (centralized) ルーティング\n",
    "- Kleinbergは分散ルーティングにおいて各ノードが知っている情報を以下のように制限\n",
    "    1. 自分の格子上における位置\n",
    "    2. ターゲットの格子上における位置\n",
    "    3. 隣接ノードの格子上における位置\n",
    "- **Greedyルーティング**\n",
    "    - メッセージを受け取ったノードは隣接ノードの中で最もターゲットに近いノードを次ノードとして選択するシンプルなアルゴリズム"
   ]
  },
  {
   "cell_type": "markdown",
   "metadata": {
    "nbpresent": {
     "id": "f6ece6b8-f577-495d-9bdd-280e7344bcb4"
    },
    "slideshow": {
     "slide_type": "subslide"
    }
   },
   "source": [
    "## 2.1 Navigable small-world network model (Kleinberg, 2000) \n",
    "### 2.1.4 分散ルーティング効率に関する3つの結果\n",
    "1. $r=k$のとき, Greedyルーティングによるターゲットへのホップ数は$O(\\log^2 n)$\n",
    "2. $0 \\leq r < k$のとき, どのような分散ルーティングアルゴリズムを用いてもターゲットへのホップ数は$\\Omega(n^{(2-r)/3)})$\n",
    "3. $k < r$のとき, どのような分散ルーティングアルゴリズムを用いてもによるターゲットへのホップ数は$\\Omega(n^{(r-2)/(r-1))})$"
   ]
  },
  {
   "cell_type": "code",
   "execution_count": 82,
   "metadata": {
    "collapsed": false,
    "hide_input": true
   },
   "outputs": [
    {
     "data": {
      "text/html": [
       "<figure>\n",
       "    <img src=\"data/kleinberg_lowerbound.png\", width=700>\n",
       "    <figcaption> Kleinberg, Jon. \"The small-world phenomenon: An algorithmic perspective.\" Proceedings of the thirty-second annual ACM symposium on Theory of computing. ACM, 2000. </figcaption>\n",
       "</figure>"
      ],
      "text/plain": [
       "<IPython.core.display.HTML object>"
      ]
     },
     "metadata": {},
     "output_type": "display_data"
    }
   ],
   "source": [
    "%%HTML\n",
    "<figure>\n",
    "    <img src=\"data/kleinberg_lowerbound.png\", width=700>\n",
    "    <figcaption> Kleinberg, Jon. \"The small-world phenomenon: An algorithmic perspective.\" Proceedings of the thirty-second annual ACM symposium on Theory of computing. ACM, 2000. </figcaption>\n",
    "</figure>"
   ]
  },
  {
   "cell_type": "markdown",
   "metadata": {
    "nbpresent": {
     "id": "50b3b7e6-9d01-4432-8293-4fb8fd05720d"
    },
    "slideshow": {
     "slide_type": "subslide"
    }
   },
   "source": [
    "## 2.1 Navigable small-world network model (Kleinberg, 2000) \n",
    "### 2.1.5 例: 2次元の場合"
   ]
  },
  {
   "cell_type": "code",
   "execution_count": 63,
   "metadata": {
    "collapsed": false,
    "hide_input": true,
    "nbpresent": {
     "id": "26c3da98-e5ee-423a-9d6f-eb7e14f12984"
    }
   },
   "outputs": [
    {
     "data": {
      "image/png": "[encoded data removed]",
      "text/plain": [
       "<matplotlib.figure.Figure at 0x7fe8a21f8e48>"
      ]
     },
     "metadata": {},
     "output_type": "display_data"
    }
   ],
   "source": [
    "from IPython.core.display import HTML\n",
    "HTML(\"\"\"\n",
    "<style>\n",
    ".output_png {\n",
    "    display: table-cell;\n",
    "    text-align: right;\n",
    "    vertical-align: middle;\n",
    "}\n",
    "</style>\n",
    "\"\"\")\n",
    "plt.rcParams['figure.figsize'] = (4,4)\n",
    "G = nx.navigable_small_world_graph(10, p=1, q=1, r=2, dim=2)\n",
    "G = G.to_undirected()\n",
    "pos=draw_autocrop_grid(G)\n",
    "plt.title(\"$k=2, n=10, q=1, r=2$\")\n",
    "nx.draw(G, pos=dict(zip(G,G)), node_size=100, node_color='r')"
   ]
  },
  {
   "cell_type": "markdown",
   "metadata": {
    "nbpresent": {
     "id": "6bcb67ca-5a7c-4c6e-9714-e07c69f67ba1"
    },
    "slideshow": {
     "slide_type": "subslide"
    }
   },
   "source": [
    "## 2.1 Navigable small-world network model (Kleinberg, 2000) \n",
    "### 2.1.5 例: 1次元の場合"
   ]
  },
  {
   "cell_type": "code",
   "execution_count": 14,
   "metadata": {
    "collapsed": false,
    "hide_input": true,
    "nbpresent": {
     "id": "b18dbe65-df81-42d4-94c2-8eacad7e1e4a"
    }
   },
   "outputs": [
    {
     "data": {
      "image/png": "[encoded data removed]",
      "text/plain": [
       "<matplotlib.figure.Figure at 0x7f5800cae780>"
      ]
     },
     "metadata": {},
     "output_type": "display_data"
    }
   ],
   "source": [
    "plt.rcParams['figure.figsize'] = (5,5)\n",
    "G = kleinberg_ring(100, p=1, q=1, r=1)\n",
    "pos = draw_autocrop(G)\n",
    "plt.title(\"$k=1, n=100, q=1, r=1$\") \n",
    "nx.draw_circular(G, with_labels=False, node_size=50, node_color='r', width=0.5)"
   ]
  },
  {
   "cell_type": "markdown",
   "metadata": {
    "collapsed": true,
    "hide_input": true,
    "nbpresent": {
     "id": "30727736-58f4-4586-9f61-bc9bd416f98d"
    },
    "slideshow": {
     "slide_type": "subslide"
    }
   },
   "source": [
    "## 2.2 Application to the routing in F2F overlay networks (Sandberg, 2006)\n",
    "### 2.2.1 概要\n",
    "- スモール・ワールドネットワーク上でのルーティング→F2Fオーバーレイネットワーク上でのルーティング\n",
    "- 信頼関係によるF2Fネットワークを構築した場合スモール・ワールド性を持つと仮定(例: Web of Trust)\n",
    "- Kleinberg(2000)では各ノードが自分の格子上での位置を知っていることが前提となっている\n",
    "    - コンピュータのオーバーレイネットワークではこの前提が成り立たない\n",
    "    - 各ノードに格子上の位置を知らせる必要がある\n",
    "    \n",
    "- **Kleinbergモデルの復元**\n",
    "    - 元のグラフを1次元or2次元格子上に埋め込む(*embedding*)\n",
    "    - Kleinbergのモデルによって生起する確率が高くなるような配置を**MCMC**により求める\n",
    "    - 各ノードの配置決定後、分散ルーティングを実行\n",
    "- Freenet ver. 0.7/0.7.5の基礎となる手法を提起\n",
    "    - 1次元格子(リングトポロジー)をbase graphとして採用\n",
    "    - 各ノードのIDがリング上における位置に対応: $id(v) \\in [0,1)$"
   ]
  },
  {
   "cell_type": "code",
   "execution_count": 117,
   "metadata": {
    "collapsed": false,
    "hide_input": true
   },
   "outputs": [
    {
     "data": {
      "text/html": [
       "<figure>\n",
       "    <img src=\"data/ict_fig_300.png\", width=800>\n",
       "    <figcaption class=\"caption\">Overview of the method proposed in Sandberg(2006)</figcaption>\n",
       "</figure>\n",
       "<style>\n",
       ".caption {\n",
       "    width: 800px;\n",
       "    text-align: center;\n",
       "}\n",
       "</style>"
      ],
      "text/plain": [
       "<IPython.core.display.HTML object>"
      ]
     },
     "metadata": {},
     "output_type": "display_data"
    }
   ],
   "source": [
    "%%HTML\n",
    "<figure>\n",
    "    <img src=\"data/ict_fig_300.png\", width=800>\n",
    "    <figcaption class=\"caption\">Overview of the method proposed in Sandberg(2006)</figcaption>\n",
    "</figure>\n",
    "<style>\n",
    ".caption {\n",
    "    width: 800px;\n",
    "    text-align: center;\n",
    "}\n",
    "</style>"
   ]
  },
  {
   "cell_type": "markdown",
   "metadata": {
    "slideshow": {
     "slide_type": "skip"
    }
   },
   "source": [
    "## 2.2 Application to the routing in F2F overlay networks (Sandberg, 2006)\n",
    "### 2.2.2 用語\n",
    "- *base graph*\n",
    "- *embedding*\n",
    "- *reverse engineering*\n",
    "- *location swapping*\n",
    "- *dead-end*\n",
    "- *local/long-range contact*"
   ]
  },
  {
   "cell_type": "markdown",
   "metadata": {
    "collapsed": true,
    "nbpresent": {
     "id": "f3f46ba3-a3d0-468a-9e84-47467a6758f5"
    },
    "slideshow": {
     "slide_type": "subslide"
    }
   },
   "source": [
    "## 2.2 Application to the routing in F2F overlay networks (Sandberg, 2006)\n",
    "### 2.2.2 問題設定\n",
    "- 「Kleinbergモデルで生成されたネットワークトポロジーが与えられ、かつ各ノードの格子上における座標情報がないとき、効率的な分散ルーティングが可能になるように座標情報を復元する」\n",
    "    - → 配置$\\phi$のパラメータ推定問題としてみなす\n",
    "- $H = (V, E)$: 解析対象となるネットワーク ($E=\\{1, 2,\\ldots, m\\}$とする)\n",
    "- $G$: $k$次元格子, base graph\n",
    "- $\\phi$:  $V \\to G$, パラメータ, 格子における元ノードの配置に対応\n",
    "- $\\textrm{Pr} (E|\\phi)= \\displaystyle\\prod_{i=1}^{m}\\cfrac{1}{d(\\phi(u_i), \\phi(v_i))^{k}Z}$: 尤度関数\n",
    "- $\\textrm{Pr}(\\phi|E) = \\cfrac{\\textrm{Pr}(E|\\phi)\\textrm{Pr}(\\phi)}{\\textrm{Pr}(E)}$: 事後分布"
   ]
  },
  {
   "cell_type": "markdown",
   "metadata": {
    "collapsed": true,
    "nbpresent": {
     "id": "b9e91f37-6872-4f5f-aa3f-0a6fde28bbf5"
    },
    "slideshow": {
     "slide_type": "subslide"
    }
   },
   "source": [
    "## 2.2 Application to the routing in F2F overlay networks (Sandberg, 2006)\n",
    "### 2.2.3 手法 - Metropolis-Hastings アルゴリズム\n",
    "- Metropolis-Hastingsアルゴリズムによりembedding $\\phi$をサンプリング\n",
    "- $\\phi_1$を現在の値, $\\phi_2$を次の値候補として以下のように導かれた採択確率$\\beta(\\phi_1, \\phi_2)$を用いる"
   ]
  },
  {
   "cell_type": "code",
   "execution_count": 168,
   "metadata": {
    "collapsed": false,
    "hide_input": false
   },
   "outputs": [
    {
     "data": {
      "text/latex": [
       "\\begin{eqnarray*}\n",
       "    \\beta (\\phi_1, \\phi_2) &=& \\min \\left[1, \\cfrac{\\textrm{Pr}(\\phi_2|E)\\alpha(\\phi_2, \\phi_1)}{\\textrm{Pr}(\\phi_1|E)\\alpha(\\phi_1, \\phi_2)}\\right] \\\\\n",
       "                           &=& \\min \\left[1, \\cfrac{\\textrm{Pr}(\\phi_2|E)}{\\textrm{Pr}(\\phi_1|E)}\\right] \\\\\n",
       "                           &=&  \\min \\left[1, \\cfrac{\\textrm{Pr}(E|\\phi_2)}{\\textrm{Pr}(E|\\phi_1)}\\right] \\\\\n",
       "                           &=& \\min \\left[1, \\prod_{i=1}^{m}\\cfrac{d(\\phi_1(u_i), \\phi_1(v_i))^k}{d(\\phi_2(u_i), \\phi_2(v_i))^k}\\right] \\\\\n",
       "                           &=& \\min \\left[1, \\prod_{i \\in E(x \\vee y)}^{}\\cfrac{d(\\phi_1(u_i), \\phi_1(v_i))^k}{d(\\phi_2(u_i), \\phi_2(v_i))^k}\\right] \\\\\n",
       "\\end{eqnarray*}"
      ],
      "text/plain": [
       "<IPython.core.display.Latex object>"
      ]
     },
     "metadata": {},
     "output_type": "display_data"
    }
   ],
   "source": [
    "%%latex\n",
    "\\begin{eqnarray*}\n",
    "    \\beta (\\phi_1, \\phi_2) &=& \\min \\left[1, \\cfrac{\\textrm{Pr}(\\phi_2|E)\\alpha(\\phi_2, \\phi_1)}{\\textrm{Pr}(\\phi_1|E)\\alpha(\\phi_1, \\phi_2)}\\right] \\\\\n",
    "                           &=& \\min \\left[1, \\cfrac{\\textrm{Pr}(\\phi_2|E)}{\\textrm{Pr}(\\phi_1|E)}\\right] \\\\\n",
    "                           &=&  \\min \\left[1, \\cfrac{\\textrm{Pr}(E|\\phi_2)}{\\textrm{Pr}(E|\\phi_1)}\\right] \\\\\n",
    "                           &=& \\min \\left[1, \\prod_{i=1}^{m}\\cfrac{d(\\phi_1(u_i), \\phi_1(v_i))^k}{d(\\phi_2(u_i), \\phi_2(v_i))^k}\\right] \\\\\n",
    "                           &=& \\min \\left[1, \\prod_{i \\in E(x \\vee y)}^{}\\cfrac{d(\\phi_1(u_i), \\phi_1(v_i))^k}{d(\\phi_2(u_i), \\phi_2(v_i))^k}\\right] \\\\\n",
    "\\end{eqnarray*}\n"
   ]
  },
  {
   "cell_type": "markdown",
   "metadata": {},
   "source": [
    "- ここで,\n",
    "    - $\\phi_1(x)=\\phi_2 (y), \\phi_1(y)=\\phi_2 (x)$, and for all $z \\neq x, y, \\phi_1(z)=\\phi_2(z)$ (つまり$\\phi_2$は$\\phi_1$の$x,y$の配置を入れ替えたもの)\n",
    "    - $E(x \\vee y)$ : $x$または$y$を端点に持つエッジの集合\n",
    "    - $\\alpha(\\phi_1, \\phi_2 ) = \\alpha(\\phi_2, \\phi_1 )  =  \\frac{1}{\\left(n + \\left( \\begin{array}{c} n \\\\ 2 \\end{array} \\right)\\right)}$  if $x,y$-switch, 0 otherwise : 提案分布, シンメトリック\n",
    "    \n",
    " とする"
   ]
  },
  {
   "cell_type": "markdown",
   "metadata": {
    "slideshow": {
     "slide_type": "subslide"
    }
   },
   "source": [
    "## 2.2 Application to the routing in F2F overlay networks (Sandberg, 2006)\n",
    "### 2.2.3 Metropolis-Hastings アルゴリズム"
   ]
  },
  {
   "cell_type": "code",
   "execution_count": 132,
   "metadata": {
    "collapsed": false,
    "hide_input": true,
    "slideshow": {
     "slide_type": "-"
    }
   },
   "outputs": [
    {
     "data": {
      "text/html": [
       "<figure>\n",
       "    <img src=\"data/sandberg_switch.png\", width=800>\n",
       "     <figcaption class=\"caption\">Node switch</figcaption>\n",
       "     <figcaption class=\"caption\">Sandberg, Oskar. \"Distributed routing in small-worlds - Darknet\", 2006</figcaption>\n",
       "</figure>\n",
       "<style>\n",
       ".caption {\n",
       "    width: 800px;\n",
       "    text-align: center;\n",
       "}\n",
       "</style>"
      ],
      "text/plain": [
       "<IPython.core.display.HTML object>"
      ]
     },
     "metadata": {},
     "output_type": "display_data"
    }
   ],
   "source": [
    "%%HTML\n",
    "<figure>\n",
    "    <img src=\"data/sandberg_switch.png\", width=800>\n",
    "     <figcaption class=\"caption\">Node switch</figcaption>\n",
    "     <figcaption class=\"caption\">Sandberg, Oskar. \"Distributed routing in small-worlds - Darknet\", 2006</figcaption>\n",
    "</figure>\n",
    "<style>\n",
    ".caption {\n",
    "    width: 800px;\n",
    "    text-align: center;\n",
    "}\n",
    "</style>"
   ]
  },
  {
   "cell_type": "markdown",
   "metadata": {
    "slideshow": {
     "slide_type": "subslide"
    }
   },
   "source": [
    "## 2.2 Application to the routing in F2F overlay networks (Sandberg, 2006)\n",
    "### 2.2.4 深さ優先探索\n",
    "- Kleinbergのモデルでは必ずlocal-contactが存在すると仮定しているため, ターゲットまでの距離は狭義に単調減少する\n",
    "- しかし実データでこの仮定は成り立たないため, 行き止まり(*dead-end*)になる可能性がある\n",
    "- 行き止まりに対応するためのルーティングアルゴリズムとして、ホップ数上限付の深さ優先探索を用いる\n",
    "    1. リクエストの内容が過去に受け取ったものと同一であればリクエストを拒否。さもなくば2へ。\n",
    "    2. 自分がターゲットである or ホップ数上限に達していれば終了。さもなくば3へ。\n",
    "    3. 隣接ノードのうちターゲットに一番近いノードへリクエストをフォワード (Greedyルーティング)\n",
    "    4. リクエストが拒否された場合、拒否したノードを候補から外し3を繰り返す。\n",
    "    "
   ]
  },
  {
   "cell_type": "markdown",
   "metadata": {
    "collapsed": true,
    "nbpresent": {
     "id": "47e3762f-af7f-4350-a7cc-03dc5d29bf5c"
    },
    "slideshow": {
     "slide_type": "skip"
    }
   },
   "source": [
    "- c.f. 実際のFreenetの実装で使われるルーティングアルゴリズムは以下の通り(Evans, 2007): **TODO** pseudo code\n",
    "    1. リクエストの内容が過去に一度来たものかどうかチェック。もし同じリクエストであれば, リクエストを拒否。\n",
    "    2. 自分がターゲットであれば終了。さもなくば3へ\n",
    "    3. もし現在の位置がリクエストがそれまでに辿ってきたどのノードの位置よりもターゲットに近ければ$HTL$(hops-to-live)をリセット\n",
    "    4. もしHTLが0になればリクエスト失敗を返す。さもなくば5.へ\n",
    "    5. 自分の隣接ノードからターゲットに一番近いノードにリクエストをフォワードし, リクエストにHTL-1と自分のノードIDを付加"
   ]
  },
  {
   "cell_type": "markdown",
   "metadata": {
    "collapsed": true,
    "nbpresent": {
     "id": "1db19399-ee40-4acf-8506-c9a48b18ab37"
    },
    "slideshow": {
     "slide_type": "subslide"
    }
   },
   "source": [
    "## 2.2 Application to the routing in F2F overlay networks (Sandberg, 2006)\n",
    "### 2.2.5 シミュレーション\n",
    "#### 2つの実験\n",
    "1. 人工的に生成したデータにM-Hアルゴリズムを適用\n",
    "2. 実データ(Web of Trust)にM-Hアルゴリズムを適用\n",
    "\n",
    "#### 3パターンのルーティングアルゴリズム\n",
    "- Fail(F): dead-endに到達した時点でルーティング失敗とする\n",
    "- Local Contact(LC): base graph上のlocal contactの使用を許す(Kleinbergの論文の手法と同様)\n",
    "- Continue(C): 深さ優先探索。dead-endに到達したら隣接ノード中で最も近いノードを次のノードとして選択。"
   ]
  },
  {
   "cell_type": "markdown",
   "metadata": {
    "slideshow": {
     "slide_type": "subslide"
    }
   },
   "source": [
    "## 2.2 Application to the routing in F2F overlay networks (Sandberg, 2006)\n",
    "### 2.2.5 シミュレーション - 1. 人工的に生成したデータ\n",
    "- *start*: Kleinbergのモデルに従って生成された直後のグラフ\n",
    "- *random*: *start*の配置をランダムに入れ替えたグラフ\n",
    "- *restored*: *random*にM-Hアルゴリズムを適用し, $6000n$回反復を行った後のグラフ"
   ]
  },
  {
   "cell_type": "code",
   "execution_count": 166,
   "metadata": {
    "collapsed": false,
    "hide_input": true
   },
   "outputs": [
    {
     "data": {
      "text/html": [
       "<figure class=\"onedim\">\n",
       "    <img src=\"data/sandberg_2006_1dim_start.png\">\n",
       "    <figcaption class=\"onedimcap\">start</figcaption>\n",
       "</figure>\n",
       "<figure class=\"onedim\">\n",
       "    <img src=\"data/sandberg_2006_1dim_random.png\">\n",
       "     <figcaption class=\"onedimcap\">random</figcaption>\n",
       "</figure> \n",
       "<figure class=\"onedim\">\n",
       "    <img src=\"data/sandberg_2006_1dim_restored.png\">\n",
       "     <figcaption class=\"onedimcap\">restored</figcaption>\n",
       "</figure> \n",
       "<style>\n",
       ".onedim {\n",
       "    width: 33.3%;\n",
       "    float: left;\n",
       "    margin: 0;\n",
       "    text-align: left;\n",
       "    padding: 0;\n",
       "}\n",
       ".onedimcap {\n",
       "    text-align: center;\n",
       "}\n",
       "</style>"
      ],
      "text/plain": [
       "<IPython.core.display.HTML object>"
      ]
     },
     "metadata": {},
     "output_type": "display_data"
    }
   ],
   "source": [
    "%%HTML\n",
    "<figure class=\"onedim\">\n",
    "    <img src=\"data/sandberg_2006_1dim_start.png\">\n",
    "    <figcaption class=\"onedimcap\">start</figcaption>\n",
    "</figure>\n",
    "<figure class=\"onedim\">\n",
    "    <img src=\"data/sandberg_2006_1dim_random.png\">\n",
    "     <figcaption class=\"onedimcap\">random</figcaption>\n",
    "</figure> \n",
    "<figure class=\"onedim\">\n",
    "    <img src=\"data/sandberg_2006_1dim_restored.png\">\n",
    "     <figcaption class=\"onedimcap\">restored</figcaption>\n",
    "</figure> \n",
    "<style>\n",
    ".onedim {\n",
    "    width: 33.3%;\n",
    "    float: left;\n",
    "    margin: 0;\n",
    "    text-align: left;\n",
    "    padding: 0;\n",
    "}\n",
    ".onedimcap {\n",
    "    text-align: center;\n",
    "}\n",
    "</style>\n"
   ]
  },
  {
   "cell_type": "code",
   "execution_count": null,
   "metadata": {
    "collapsed": true,
    "hide_input": true
   },
   "outputs": [],
   "source": []
  },
  {
   "cell_type": "markdown",
   "metadata": {
    "slideshow": {
     "slide_type": "subslide"
    }
   },
   "source": [
    "## 2.2 Application to the routing in F2F overlay networks (Sandberg, 2006)\n",
    "### 2.2.5 シミュレーション - 1. 人工的に生成したデータ\n",
    "- *start*: Kleinbergのモデルに従って生成された直後のグラフ\n",
    "- *random*: *start*の配置をランダムに入れ替えたグラフ\n",
    "- *restored*: *random*にM-Hアルゴリズムを適用し, $6000n$回反復を行った後のグラフ"
   ]
  },
  {
   "cell_type": "code",
   "execution_count": 133,
   "metadata": {
    "collapsed": false,
    "hide_input": true,
    "slideshow": {
     "slide_type": "-"
    }
   },
   "outputs": [
    {
     "data": {
      "text/html": [
       "<figure class=\"subfig\">\n",
       "    <img src=\"data/sandberg_2006_fig1.png\">\n",
       "</figure>\n",
       "<figure class=\"subfig\">\n",
       "    <img src=\"data/sandberg_2006_fig2.png\">\n",
       "</figure> \n",
       "<style>\n",
       ".subfig {\n",
       "    width: 45%;\n",
       "    float: left;\n",
       "    margin: 0;\n",
       "    text-align: left;\n",
       "    padding: 0;\n",
       "}\n",
       "</style>"
      ],
      "text/plain": [
       "<IPython.core.display.HTML object>"
      ]
     },
     "metadata": {},
     "output_type": "display_data"
    }
   ],
   "source": [
    "%%HTML\n",
    "<figure class=\"subfig\">\n",
    "    <img src=\"data/sandberg_2006_fig1.png\">\n",
    "</figure>\n",
    "<figure class=\"subfig\">\n",
    "    <img src=\"data/sandberg_2006_fig2.png\">\n",
    "</figure> \n",
    "<style>\n",
    ".subfig {\n",
    "    width: 45%;\n",
    "    float: left;\n",
    "    margin: 0;\n",
    "    text-align: left;\n",
    "    padding: 0;\n",
    "}\n",
    "</style>"
   ]
  },
  {
   "cell_type": "markdown",
   "metadata": {
    "hide_input": true,
    "slideshow": {
     "slide_type": "subslide"
    }
   },
   "source": [
    "## 2.2 Application to the routing in F2F overlay networks (Sandberg, 2006)\n",
    "### 2.2.5 シミュレーション - 1. 人工的に生成したデータ\n",
    "- *start*: Kleinbergのモデルに従って生成された直後のグラフ\n",
    "- *random*: *start*の配置をランダムに入れ替えたグラフ\n",
    "- *restored*: *random*にM-Hアルゴリズムを適用し, $6000n$回反復を行った後のグラフ"
   ]
  },
  {
   "cell_type": "code",
   "execution_count": 154,
   "metadata": {
    "collapsed": false,
    "hide_input": true,
    "slideshow": {
     "slide_type": "-"
    }
   },
   "outputs": [
    {
     "data": {
      "text/html": [
       "<figure class=\"subfig\">\n",
       "    <img src=\"data/sandberg_2006_fig3.png\">\n",
       "</figure>\n",
       "<figure class=\"subfig\">\n",
       "    <img src=\"data/sandberg_2006_fig4.png\">\n",
       "</figure> "
      ],
      "text/plain": [
       "<IPython.core.display.HTML object>"
      ]
     },
     "metadata": {},
     "output_type": "display_data"
    }
   ],
   "source": [
    "%%HTML\n",
    "<figure class=\"subfig\">\n",
    "    <img src=\"data/sandberg_2006_fig3.png\">\n",
    "</figure>\n",
    "<figure class=\"subfig\">\n",
    "    <img src=\"data/sandberg_2006_fig4.png\">\n",
    "</figure> "
   ]
  },
  {
   "cell_type": "markdown",
   "metadata": {
    "hide_input": true,
    "slideshow": {
     "slide_type": "subslide"
    }
   },
   "source": [
    "## 2.2 Application to the routing in F2F overlay networks (Sandberg, 2006)\n",
    "### 2.2.5 シミュレーション - 1. 人工的に生成したデータ\n",
    "- *start*: Kleinbergのモデルに従って生成された直後のグラフ\n",
    "- *random*: *start*の配置をランダムに入れ替えたグラフ\n",
    "- *restored*: *random*にM-Hアルゴリズムを適用し, $6000n$回反復を行った後のグラフ"
   ]
  },
  {
   "cell_type": "code",
   "execution_count": 136,
   "metadata": {
    "collapsed": false,
    "hide_input": true,
    "slideshow": {
     "slide_type": "skip"
    }
   },
   "outputs": [
    {
     "data": {
      "text/html": [
       "<figure class=\"subfig\">\n",
       "    <img src=\"data/sandberg_2006_fig12.png\">\n",
       "</figure>"
      ],
      "text/plain": [
       "<IPython.core.display.HTML object>"
      ]
     },
     "metadata": {},
     "output_type": "display_data"
    }
   ],
   "source": [
    "%%HTML\n",
    "<figure class=\"subfig\">\n",
    "    <img src=\"data/sandberg_2006_fig12.png\">\n",
    "</figure>"
   ]
  },
  {
   "cell_type": "markdown",
   "metadata": {
    "slideshow": {
     "slide_type": "subslide"
    }
   },
   "source": [
    "## 2.2 Application to the routing in F2F overlay networks (Sandberg, 2006)\n",
    "### 2.2.5 シミュレーション - 2. 実データ (PGP公開鍵ネットワーク: Web of Trust)\n",
    "- Web of Trust: PGP公開鍵の信頼性を保証するための仕組み。現実世界における知り合い関係のネットワークに対応する。\n",
    "    - ノード: 公開鍵の所有者\n",
    "    - エッジ: ノード間でデジタル署名が行われていれば存在(有向)\n",
    "- 本論文では2000ノードと4000ノードをサンプルとして抽出しテストを行った"
   ]
  },
  {
   "cell_type": "code",
   "execution_count": 153,
   "metadata": {
    "collapsed": false,
    "hide_input": true
   },
   "outputs": [
    {
     "data": {
      "text/html": [
       "<figure class=\"table\">\n",
       "    <img src=\"data/sandberg_2006_table1.png\">\n",
       "</figure> \n",
       "<figure class=\"wot\">\n",
       "    <img src=\"data/wot.gif\">\n",
       "</figure>\n",
       "\n",
       "<style>\n",
       ".wot {\n",
       "    width: 45%;\n",
       "    float: left;\n",
       "    margin: 0;\n",
       "    text-align: left;\n",
       "    padding: 0;\n",
       "}\n",
       ".table {\n",
       "    width: 30%;\n",
       "    float: left;\n",
       "    margin: 0;\n",
       "    text-align: left;\n",
       "    padding: 0;\n",
       "}\n",
       "</style>"
      ],
      "text/plain": [
       "<IPython.core.display.HTML object>"
      ]
     },
     "metadata": {},
     "output_type": "display_data"
    }
   ],
   "source": [
    "%%HTML\n",
    "<figure class=\"table\">\n",
    "    <img src=\"data/sandberg_2006_table1.png\">\n",
    "</figure> \n",
    "<figure class=\"wot\">\n",
    "    <img src=\"data/wot.gif\">\n",
    "</figure>\n",
    "\n",
    "<style>\n",
    ".wot {\n",
    "    width: 45%;\n",
    "    float: left;\n",
    "    margin: 0;\n",
    "    text-align: left;\n",
    "    padding: 0;\n",
    "}\n",
    ".table {\n",
    "    width: 30%;\n",
    "    float: left;\n",
    "    margin: 0;\n",
    "    text-align: left;\n",
    "    padding: 0;\n",
    "}\n",
    "</style>"
   ]
  },
  {
   "cell_type": "markdown",
   "metadata": {
    "hide_input": false,
    "nbpresent": {
     "id": "37375b37-078b-42b1-81a3-382920befd24"
    },
    "slideshow": {
     "slide_type": "subslide"
    }
   },
   "source": [
    "## 2.2 Application to the routing in F2F overlay networks (Sandberg, 2006)\n",
    "### 2.2.6 結論\n",
    "- 提案されたM-Hアルゴリズムによってノードの位置交換を繰り返すことで, 効率の良い分散ルーティングが可能になる\n",
    "- 人工的に生成されたデータに対しては, M-Hアルゴリズム適用の結果, 理想的な配置におけるホップ数に近づけることができる\n",
    "- 実データに関しては多数のリーフノードの存在により, dead-endに到達することが多く, Greedyアルゴリズムでは非効率となってしまう\n",
    "    - ただし実データを対象にした他の先行研究の結果は成功率が更に低い\n",
    "        - Liben-Nowell et al. (2005): 13%\n",
    "        - Milgram (1967): 20%"
   ]
  },
  {
   "cell_type": "markdown",
   "metadata": {
    "nbpresent": {
     "id": "1df174e5-6da2-4175-b58b-3a1726112908"
    },
    "slideshow": {
     "slide_type": "skip"
    }
   },
   "source": [
    "# 3. 追試結果\n",
    "- Sandberg(2006)の手法を用いた実データの解析結果"
   ]
  },
  {
   "cell_type": "markdown",
   "metadata": {
    "nbpresent": {
     "id": "830ee5a9-785e-49f2-b86d-bd42e2cee4d4"
    },
    "slideshow": {
     "slide_type": "slide"
    }
   },
   "source": [
    "# 3. 今後の課題と改良案\n",
    "- Kleinberg(2000)のモデルはlocal contactが必ず存在するという仮定の上ルーティングが機能するとしているが、現実的ではない。またスケールフリー性も無視している。\n",
    "    - より現実的なモデルをembedding先として用いる (例: Kleinberg(2002), Watts et al. (2002))\n",
    "- M-Hアルゴリズムにおいて, 位置を入れ替えるノードの選択が分散的でない\n",
    "    - 分散的に実装可能でかつ収束効率の良い提案分布を設定する必要性\n",
    "- Web of Trust以外の社会ネットワークデータに対する実験\n",
    "- 現実のネットワークは通信速度等を考慮して重み付きエッジを用いるべき"
   ]
  },
  {
   "cell_type": "markdown",
   "metadata": {},
   "source": []
  },
  {
   "cell_type": "markdown",
   "metadata": {
    "slideshow": {
     "slide_type": "skip"
    }
   },
   "source": [
    "## Freenet 0.7/0.7.5 の課題\n",
    "    1. 効率性\n",
    "        - モデルと現実のネットワークのトポロジーの差異によるembeddingしてもルーティングが必ずしもうまく行かない\n",
    "    2. 安全性\n",
    "        - アタッカーノードの存在を仮定した場合、安全性が保たれない\n",
    "    3. 頑健性\n",
    "        - 実際のネットワークは静的でなく、動的にノードが出入りする(=churn)。 この場合ルーティングの効率性が保証されない (Evans, 2007)"
   ]
  },
  {
   "cell_type": "code",
   "execution_count": null,
   "metadata": {
    "collapsed": true
   },
   "outputs": [],
   "source": []
  }
 ],
 "metadata": {
  "celltoolbar": "Slideshow",
  "kernelspec": {
   "display_name": "Python 3",
   "language": "python",
   "name": "python3"
  },
  "language_info": {
   "codemirror_mode": {
    "name": "ipython",
    "version": 3
   },
   "file_extension": ".py",
   "mimetype": "text/x-python",
   "name": "python",
   "nbconvert_exporter": "python",
   "pygments_lexer": "ipython3",
   "version": "3.4.3"
  },
  "nbpresent": {
   "slides": {
    "13210aa8-0668-4bb2-90d4-c2caceffb0c3": {
     "id": "13210aa8-0668-4bb2-90d4-c2caceffb0c3",
     "prev": "e97aa0c6-2235-4be7-a7b7-2d43d115cd5d",
     "regions": {
      "04013b03-8a89-4bb0-901b-2e273964a87f": {
       "attrs": {
        "height": 0.8,
        "width": 0.8,
        "x": 0.1,
        "y": 0.1
       },
       "content": {
        "cell": "2d922590-9511-4ae4-97b1-a0154e8d6c5f",
        "part": "whole"
       },
       "id": "04013b03-8a89-4bb0-901b-2e273964a87f"
      }
     }
    },
    "1c8e5231-0ac6-4469-9fce-b52a0d91ea43": {
     "id": "1c8e5231-0ac6-4469-9fce-b52a0d91ea43",
     "prev": "9e037e71-9c11-4463-8d66-2c205d05b7d3",
     "regions": {
      "38940482-f02d-401c-9120-d3c1640cf67c": {
       "attrs": {
        "height": 0.8,
        "width": 0.8,
        "x": 0.1,
        "y": 0.1
       },
       "content": {
        "cell": "fd0cf315-3f91-449f-907f-bfbfae9f3b88",
        "part": "whole"
       },
       "id": "38940482-f02d-401c-9120-d3c1640cf67c"
      }
     }
    },
    "1d5476c9-0e50-4982-b66d-dbaaa2c2e7f3": {
     "id": "1d5476c9-0e50-4982-b66d-dbaaa2c2e7f3",
     "prev": "f319baa9-a833-4f10-af2c-cef326abff37",
     "regions": {
      "a6b0f3f0-6fa4-4dc0-b6d1-f2f854ed8f83": {
       "attrs": {
        "height": 0.8,
        "width": 0.8,
        "x": 0.1,
        "y": 0.1
       },
       "content": {
        "cell": "30727736-58f4-4586-9f61-bc9bd416f98d",
        "part": "whole"
       },
       "id": "a6b0f3f0-6fa4-4dc0-b6d1-f2f854ed8f83"
      }
     }
    },
    "2c692dc3-bbe2-479e-8664-e6810d92c9fc": {
     "id": "2c692dc3-bbe2-479e-8664-e6810d92c9fc",
     "prev": "9530ba8b-223d-4878-831f-ac127746fb3e",
     "regions": {
      "fe46a4b5-2efc-440e-82f5-3721cc47232d": {
       "attrs": {
        "height": 0.8,
        "width": 0.8000000000000002,
        "x": 0.09506254959025737,
        "y": 0.10566609904625222
       },
       "content": {
        "cell": "830ee5a9-785e-49f2-b86d-bd42e2cee4d4",
        "part": "whole"
       },
       "id": "fe46a4b5-2efc-440e-82f5-3721cc47232d"
      }
     }
    },
    "3d57d01b-7081-4af5-ba96-f2064bc9c81c": {
     "id": "3d57d01b-7081-4af5-ba96-f2064bc9c81c",
     "prev": "aba722aa-6d6e-40dd-bebd-d1f93982af96",
     "regions": {
      "d67eb6b3-8254-4d5c-ade2-dc85925690fd": {
       "attrs": {
        "height": 0.8,
        "width": 0.8,
        "x": 0.1,
        "y": 0.1
       },
       "content": {
        "cell": "b9e91f37-6872-4f5f-aa3f-0a6fde28bbf5",
        "part": "whole"
       },
       "id": "d67eb6b3-8254-4d5c-ade2-dc85925690fd"
      }
     }
    },
    "3dbcae15-b559-4c21-9e63-6abd9c2511a7": {
     "id": "3dbcae15-b559-4c21-9e63-6abd9c2511a7",
     "prev": "b11cb7ad-3889-47ac-973c-a1825011ec8f",
     "regions": {
      "824b5f18-76de-42dc-ab1e-9ebec432e765": {
       "attrs": {
        "height": 0.8,
        "width": 0.8,
        "x": 0.1,
        "y": 0.1
       },
       "content": {
        "cell": "fddfb5f0-95ec-461b-8e6b-585e6d74d877",
        "part": "whole"
       },
       "id": "824b5f18-76de-42dc-ab1e-9ebec432e765"
      }
     }
    },
    "5320eb0e-e9ea-4dd0-bbe1-c5541d2aaa17": {
     "id": "5320eb0e-e9ea-4dd0-bbe1-c5541d2aaa17",
     "prev": "3d57d01b-7081-4af5-ba96-f2064bc9c81c",
     "regions": {
      "355178cf-433f-4605-a44f-593a8de563c3": {
       "attrs": {
        "height": 0.8,
        "width": 0.8,
        "x": 0.1,
        "y": 0.1
       },
       "content": {
        "cell": "47e3762f-af7f-4350-a7cc-03dc5d29bf5c",
        "part": "whole"
       },
       "id": "355178cf-433f-4605-a44f-593a8de563c3"
      }
     }
    },
    "74847fc7-d380-4d8c-8c3b-676bc98a79c5": {
     "id": "74847fc7-d380-4d8c-8c3b-676bc98a79c5",
     "prev": "1c8e5231-0ac6-4469-9fce-b52a0d91ea43",
     "regions": {
      "f1cefe58-5fc1-4602-b4de-f1bd8ae1403d": {
       "attrs": {
        "height": 0.8,
        "width": 0.8,
        "x": 0.1,
        "y": 0.1
       },
       "content": {
        "cell": "72132013-3d31-406a-9cc4-5ec1098c3f4e",
        "part": "whole"
       },
       "id": "f1cefe58-5fc1-4602-b4de-f1bd8ae1403d"
      }
     }
    },
    "853733ff-19f2-44aa-9701-f9a0419c3469": {
     "id": "853733ff-19f2-44aa-9701-f9a0419c3469",
     "prev": "99689f3d-f0ee-417b-b477-0d21398cda64",
     "regions": {
      "dd18f3f5-94cb-4ea4-ae15-285275a01651": {
       "attrs": {
        "height": 0.8,
        "width": 0.8,
        "x": 0.1,
        "y": 0.1
       },
       "content": {
        "cell": "50b3b7e6-9d01-4432-8293-4fb8fd05720d",
        "part": "whole"
       },
       "id": "dd18f3f5-94cb-4ea4-ae15-285275a01651"
      }
     }
    },
    "875b82e8-58d9-47d7-951b-98e0b1e9ec65": {
     "id": "875b82e8-58d9-47d7-951b-98e0b1e9ec65",
     "prev": "ffa6dc40-49ef-443b-9705-bd5a8c88be52",
     "regions": {
      "b207ba2f-ae19-47b6-a8d3-a3148585df87": {
       "attrs": {
        "height": 0.8,
        "width": 0.8,
        "x": 0.1,
        "y": 0.1
       },
       "content": {
        "cell": "a951aa66-06aa-4f61-b864-2e8a38203289",
        "part": "whole"
       },
       "id": "b207ba2f-ae19-47b6-a8d3-a3148585df87"
      }
     }
    },
    "9530ba8b-223d-4878-831f-ac127746fb3e": {
     "id": "9530ba8b-223d-4878-831f-ac127746fb3e",
     "prev": "e1e894db-079d-4d78-97b7-84a493bef2ef",
     "regions": {
      "1cc6d014-df1f-413f-b12d-994405a0664d": {
       "attrs": {
        "height": 0.8,
        "width": 0.8,
        "x": 0.1,
        "y": 0.1
       },
       "content": {
        "cell": "1df174e5-6da2-4175-b58b-3a1726112908",
        "part": "whole"
       },
       "id": "1cc6d014-df1f-413f-b12d-994405a0664d"
      }
     }
    },
    "99689f3d-f0ee-417b-b477-0d21398cda64": {
     "id": "99689f3d-f0ee-417b-b477-0d21398cda64",
     "prev": "13210aa8-0668-4bb2-90d4-c2caceffb0c3",
     "regions": {
      "1d1c9ed9-5ebd-4869-8f28-df16e0ff5631": {
       "attrs": {
        "height": 0.8,
        "width": 0.8,
        "x": 0.1,
        "y": 0.1
       },
       "content": {
        "cell": "f6ece6b8-f577-495d-9bdd-280e7344bcb4",
        "part": "whole"
       },
       "id": "1d1c9ed9-5ebd-4869-8f28-df16e0ff5631"
      }
     }
    },
    "9e037e71-9c11-4463-8d66-2c205d05b7d3": {
     "id": "9e037e71-9c11-4463-8d66-2c205d05b7d3",
     "prev": "875b82e8-58d9-47d7-951b-98e0b1e9ec65",
     "regions": {
      "57ef1e8f-ecb8-4327-8567-1c6acf5eb013": {
       "attrs": {
        "height": 0.8,
        "width": 0.8,
        "x": 0.1,
        "y": 0.1
       },
       "content": {
        "cell": "c467f711-c039-40e7-aefc-a317ecd4f9a4",
        "part": "whole"
       },
       "id": "57ef1e8f-ecb8-4327-8567-1c6acf5eb013"
      }
     }
    },
    "a4ba8008-214e-43e3-bbd5-d1020bda9a94": {
     "id": "a4ba8008-214e-43e3-bbd5-d1020bda9a94",
     "prev": null,
     "regions": {
      "af7d70f4-3658-4430-9d29-00bd46705308": {
       "attrs": {
        "height": 0.8,
        "width": 0.8,
        "x": 0.1,
        "y": 0.1
       },
       "content": {
        "cell": "f38b8e25-8c63-4887-8e7e-0d627bb4e792",
        "part": "whole"
       },
       "id": "af7d70f4-3658-4430-9d29-00bd46705308"
      }
     }
    },
    "a8ae1afe-f8b6-410b-a10f-bf7ae6e64dba": {
     "id": "a8ae1afe-f8b6-410b-a10f-bf7ae6e64dba",
     "prev": "d2c964f5-40b5-4ff4-a34f-28c211184a61",
     "regions": {
      "809468a4-0677-4674-a7e8-2b8f80d90d90": {
       "attrs": {
        "height": 0.8,
        "width": 0.8,
        "x": 0.1,
        "y": 0.1
       },
       "content": {
        "cell": "07d32117-4388-4456-a325-a63800f15a4d",
        "part": "whole"
       },
       "id": "809468a4-0677-4674-a7e8-2b8f80d90d90"
      }
     }
    },
    "aba722aa-6d6e-40dd-bebd-d1f93982af96": {
     "id": "aba722aa-6d6e-40dd-bebd-d1f93982af96",
     "prev": "1d5476c9-0e50-4982-b66d-dbaaa2c2e7f3",
     "regions": {
      "fb8fa810-3476-415e-bb83-8bec79594638": {
       "attrs": {
        "height": 0.8,
        "width": 0.8,
        "x": 0.1,
        "y": 0.1
       },
       "content": {
        "cell": "f3f46ba3-a3d0-468a-9e84-47467a6758f5",
        "part": "whole"
       },
       "id": "fb8fa810-3476-415e-bb83-8bec79594638"
      }
     }
    },
    "b11cb7ad-3889-47ac-973c-a1825011ec8f": {
     "id": "b11cb7ad-3889-47ac-973c-a1825011ec8f",
     "prev": "a4ba8008-214e-43e3-bbd5-d1020bda9a94",
     "regions": {
      "d56408af-15e0-4d4e-ad43-83dc1b9a8fff": {
       "attrs": {
        "height": 0.8,
        "width": 0.8,
        "x": 0.1,
        "y": 0.1
       },
       "content": {
        "cell": "0a2c4130-4c16-4084-a7e7-2af0067d05da",
        "part": "whole"
       },
       "id": "d56408af-15e0-4d4e-ad43-83dc1b9a8fff"
      }
     }
    },
    "d2c964f5-40b5-4ff4-a34f-28c211184a61": {
     "id": "d2c964f5-40b5-4ff4-a34f-28c211184a61",
     "prev": "74847fc7-d380-4d8c-8c3b-676bc98a79c5",
     "regions": {
      "776711d2-646d-4d68-9177-3fcce8839455": {
       "attrs": {
        "height": 0.8,
        "width": 0.8,
        "x": 0.1,
        "y": 0.1
       },
       "content": {
        "cell": "167254f6-0171-44ca-9e8f-c9b6128b1660",
        "part": "whole"
       },
       "id": "776711d2-646d-4d68-9177-3fcce8839455"
      }
     }
    },
    "d2f736d2-4635-4ca9-ab24-dacced37f472": {
     "id": "d2f736d2-4635-4ca9-ab24-dacced37f472",
     "prev": "dae89302-d94e-4a83-935d-7e417af5a07e",
     "regions": {
      "d890e0a5-00c2-4518-a715-caa93bfaccac": {
       "attrs": {
        "height": 0.8,
        "width": 0.8,
        "x": 0.1,
        "y": 0.1
       },
       "content": {
        "cell": "6bcb67ca-5a7c-4c6e-9714-e07c69f67ba1",
        "part": "whole"
       },
       "id": "d890e0a5-00c2-4518-a715-caa93bfaccac"
      }
     }
    },
    "dae89302-d94e-4a83-935d-7e417af5a07e": {
     "id": "dae89302-d94e-4a83-935d-7e417af5a07e",
     "prev": "853733ff-19f2-44aa-9701-f9a0419c3469",
     "regions": {
      "70770180-0499-461f-8aa6-462ac0700930": {
       "attrs": {
        "height": 0.8,
        "width": 0.8,
        "x": 0.1,
        "y": 0.1
       },
       "content": {
        "cell": "26c3da98-e5ee-423a-9d6f-eb7e14f12984",
        "part": "whole"
       },
       "id": "70770180-0499-461f-8aa6-462ac0700930"
      }
     }
    },
    "e0d178fb-67f8-4dd9-930c-dceda10f3762": {
     "id": "e0d178fb-67f8-4dd9-930c-dceda10f3762",
     "prev": "5320eb0e-e9ea-4dd0-bbe1-c5541d2aaa17",
     "regions": {
      "e9f5bfa8-beee-4c3d-9640-701f4cdacaa7": {
       "attrs": {
        "height": 0.8,
        "width": 0.8,
        "x": 0.1,
        "y": 0.1
       },
       "content": {
        "cell": "1db19399-ee40-4acf-8506-c9a48b18ab37",
        "part": "whole"
       },
       "id": "e9f5bfa8-beee-4c3d-9640-701f4cdacaa7"
      }
     }
    },
    "e1e894db-079d-4d78-97b7-84a493bef2ef": {
     "id": "e1e894db-079d-4d78-97b7-84a493bef2ef",
     "prev": "e0d178fb-67f8-4dd9-930c-dceda10f3762",
     "regions": {
      "5dea17ac-5b79-45ca-b97b-2f7a21497664": {
       "attrs": {
        "height": 0.8,
        "width": 0.8,
        "x": 0.1,
        "y": 0.1
       },
       "content": {
        "cell": "37375b37-078b-42b1-81a3-382920befd24",
        "part": "whole"
       },
       "id": "5dea17ac-5b79-45ca-b97b-2f7a21497664"
      }
     }
    },
    "e97aa0c6-2235-4be7-a7b7-2d43d115cd5d": {
     "id": "e97aa0c6-2235-4be7-a7b7-2d43d115cd5d",
     "prev": "a8ae1afe-f8b6-410b-a10f-bf7ae6e64dba",
     "regions": {
      "17304c04-073a-41b9-8018-60d5a1fab0fb": {
       "attrs": {
        "height": 0.8,
        "width": 0.8,
        "x": 0.1,
        "y": 0.1
       },
       "content": {
        "cell": "721f6c4f-8909-4e15-9fb8-f548ee4fc098",
        "part": "whole"
       },
       "id": "17304c04-073a-41b9-8018-60d5a1fab0fb"
      }
     }
    },
    "f319baa9-a833-4f10-af2c-cef326abff37": {
     "id": "f319baa9-a833-4f10-af2c-cef326abff37",
     "prev": "d2f736d2-4635-4ca9-ab24-dacced37f472",
     "regions": {
      "a6c0f182-db92-487c-99da-0b947cb6e0ff": {
       "attrs": {
        "height": 0.8,
        "width": 0.8,
        "x": 0.1,
        "y": 0.1
       },
       "content": {
        "cell": "b18dbe65-df81-42d4-94c2-8eacad7e1e4a",
        "part": "whole"
       },
       "id": "a6c0f182-db92-487c-99da-0b947cb6e0ff"
      }
     }
    },
    "ffa6dc40-49ef-443b-9705-bd5a8c88be52": {
     "id": "ffa6dc40-49ef-443b-9705-bd5a8c88be52",
     "prev": "3dbcae15-b559-4c21-9e63-6abd9c2511a7",
     "regions": {
      "7f16d4b0-04e1-41da-9373-63f5e60f45a8": {
       "attrs": {
        "height": 0.8,
        "width": 0.8,
        "x": 0.1,
        "y": 0.1
       },
       "content": {
        "cell": "ddb3fee4-1cd0-469b-aa3d-74775ff4bc00",
        "part": "whole"
       },
       "id": "7f16d4b0-04e1-41da-9373-63f5e60f45a8"
      }
     }
    }
   },
   "themes": {}
  }
 },
 "nbformat": 4,
 "nbformat_minor": 1
}
